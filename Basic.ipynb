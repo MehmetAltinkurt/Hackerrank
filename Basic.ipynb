{
  "nbformat": 4,
  "nbformat_minor": 0,
  "metadata": {
    "colab": {
      "provenance": [],
      "authorship_tag": "ABX9TyOwljGso91NUadNN1HWacXF",
      "include_colab_link": true
    },
    "kernelspec": {
      "name": "python3",
      "display_name": "Python 3"
    },
    "language_info": {
      "name": "python"
    }
  },
  "cells": [
    {
      "cell_type": "markdown",
      "metadata": {
        "id": "view-in-github",
        "colab_type": "text"
      },
      "source": [
        "<a href=\"https://colab.research.google.com/github/MehmetAltinkurt/Hackerrank/blob/main/Basic.ipynb\" target=\"_parent\"><img src=\"https://colab.research.google.com/assets/colab-badge.svg\" alt=\"Open In Colab\"/></a>"
      ]
    },
    {
      "cell_type": "code",
      "execution_count": null,
      "metadata": {
        "colab": {
          "base_uri": "https://localhost:8080/"
        },
        "id": "OZbtNnQCxAkH",
        "outputId": "5ea9a1bb-6a39-48e3-8584-90b0be1b763a"
      },
      "outputs": [
        {
          "output_type": "stream",
          "name": "stdout",
          "text": [
            "1\n",
            "2\n",
            "2\n",
            "4\n",
            "[[0, 0, 0], [0, 0, 1], [0, 0, 2], [0, 1, 0], [0, 1, 1], [0, 1, 2], [0, 2, 0], [0, 2, 1], [1, 0, 0], [1, 0, 1], [1, 0, 2], [1, 1, 0], [1, 1, 1], [1, 2, 0], [1, 2, 2]]\n"
          ]
        }
      ],
      "source": [
        "\"\"\"\n",
        "Let's learn about list comprehensions! You are given three integers x, y and z representing the dimensions of a cuboid along with an integer n. \n",
        "Print a list of all possible coordinates given by (i,j,k) on a 3D grid where the sum of i+j+k is not equal to n.\n",
        "\n",
        "\"\"\"\n",
        "if __name__ == '__main__':\n",
        "    x = int(input())\n",
        "    y = int(input())\n",
        "    z = int(input())\n",
        "    n = int(input())\n",
        "\n",
        "    mylist=[]\n",
        "    for i in range(x+1):\n",
        "      for j in range(y+1):\n",
        "        for k in range(z+1):\n",
        "          if i+j+k!=n:\n",
        "            mylist.append([i,j,k])\n",
        "    print(mylist)\n",
        "\n",
        "\n",
        "\n"
      ]
    },
    {
      "cell_type": "code",
      "source": [
        "\"\"\"\n",
        "Given the participants' score sheet for your University Sports Day, you are required to find the runner-up score.\n",
        " You are given  scores. Store them in a list and find the score of the runner-up.\n",
        " \"\"\"\n",
        "\n",
        "\n",
        "if __name__ == '__main__':\n",
        "    n = int(input())\n",
        "    arr = map(int, input().split())\n",
        "\n",
        "    arr=list(arr)\n",
        "    maxScore=max(arr)\n",
        "    runnerup=arr[0]\n",
        "    for num in arr:\n",
        "      if num>runnerup and num!=maxScore:\n",
        "        runnerup=num\n",
        "    print(runnerup)\n"
      ],
      "metadata": {
        "colab": {
          "base_uri": "https://localhost:8080/"
        },
        "id": "jfpsHyyuBfLS",
        "outputId": "57ec6fc5-7462-4925-fd73-d224a9ddb031"
      },
      "execution_count": null,
      "outputs": [
        {
          "output_type": "stream",
          "name": "stdout",
          "text": [
            "5\n",
            "2 3 6 6 5\n",
            "5\n"
          ]
        }
      ]
    },
    {
      "cell_type": "code",
      "source": [
        "\"\"\"Given the names and grades for each student in a class of N students, store them in a nested list and print the name(s) of any student(s) having the second lowest grade.\n",
        "\n",
        "Note: If there are multiple students with the second lowest grade, order their names alphabetically and print each name on a new line.\"\"\"\n",
        "if __name__ == '__main__':\n",
        "    myList=[]\n",
        "    for _ in range(int(input())):\n",
        "        name = input()\n",
        "        score = float(input())\n",
        "        myList.append([name,score])\n",
        "    myList.sort(key=lambda x:x[1])\n",
        "    secondLowest=0\n",
        "    for l in myList:\n",
        "      if l[1]>myList[0][1]:\n",
        "        secondLowest=l[1]\n",
        "        break\n",
        "    nameList=[]\n",
        "    for l in myList:\n",
        "        if l[1]==secondLowest:\n",
        "            nameList.append(l[0])\n",
        "    nameList.sort()\n",
        "    for i in nameList:\n",
        "      print(i)"
      ],
      "metadata": {
        "colab": {
          "base_uri": "https://localhost:8080/"
        },
        "id": "3Tge74O_hLo4",
        "outputId": "0cc10a7d-597d-4364-98f2-71a2c5ade8bf"
      },
      "execution_count": null,
      "outputs": [
        {
          "output_type": "stream",
          "name": "stdout",
          "text": [
            "3\n",
            "a\n",
            "1\n",
            "b\n",
            "1\n",
            "c\n",
            "2\n",
            "c\n"
          ]
        }
      ]
    },
    {
      "cell_type": "code",
      "source": [
        "\"\"\"\n",
        "The provided code stub will read in a dictionary containing key/value pairs of name:[marks] for a list of students. Print the average of the marks array for the student name provided, showing 2 places after the decimal.\n",
        "\"\"\"\n",
        "if __name__ == '__main__':\n",
        "    n = int(input())\n",
        "    student_marks = {}\n",
        "    for _ in range(n):\n",
        "        name, *line = input().split()\n",
        "        scores = list(map(float, line))\n",
        "        student_marks[name] = scores\n",
        "    query_name = input()\n",
        "\n",
        "    print(\"%.2f\" % (sum(student_marks[query_name])/len(student_marks[query_name])))"
      ],
      "metadata": {
        "colab": {
          "base_uri": "https://localhost:8080/"
        },
        "id": "XR1PoNzgvXK_",
        "outputId": "8ad55b11-736a-4329-a488-6888b51b046d"
      },
      "execution_count": null,
      "outputs": [
        {
          "output_type": "stream",
          "name": "stdout",
          "text": [
            "1\n",
            "a 3 4 5\n",
            "a\n",
            "4.00\n"
          ]
        }
      ]
    },
    {
      "cell_type": "code",
      "source": [
        "\"\"\"\n",
        "You are given n words. Some words may repeat. For each word, output its number of occurrences. The output order should correspond with the input order of appearance of the word. See the sample input/output for clarification.\n",
        "Note: Each input line ends with a \"\\n\" characte\n",
        "\n",
        "if __name__ == '__main__':\n",
        "    n = int(input())\n",
        "    wordList=[]\n",
        "    for _ in range(n):\n",
        "        word = input()\n",
        "        wordList.append(word)\n",
        "    print(wordList)\n",
        "\n",
        "    for i in range(len(wordList)):\n",
        "      count=0\n",
        "      for j in range(i,len(wordList),1):\n",
        "        print(i,j)\n",
        "        if wordList[i]==wordList[j]:\n",
        "          count+=1\n",
        "          wordList.pop(j)\n",
        "      print(\"count:\",count)\n",
        "\"\"\"\n",
        "\n"
      ],
      "metadata": {
        "id": "oPYmXCt56KAJ"
      },
      "execution_count": null,
      "outputs": []
    },
    {
      "cell_type": "code",
      "source": [
        "if __name__ == '__main__':\n",
        "    N = int(input())\n",
        "    myList=[]\n",
        "    for _ in range(N):\n",
        "        func = input().split()\n",
        "        if func[0].lower()==\"insert\":\n",
        "          myList.insert(int(func[1]),int(func[2]))\n",
        "        if func[0].lower()==\"print\":\n",
        "          print(myList)      \n",
        "        if func[0].lower()==\"remove\":\n",
        "          myList.remove(int(func[1]))\n",
        "        if func[0].lower()==\"append\":\n",
        "          myList.append(int(func[1]))        \n",
        "        if func[0].lower()==\"sort\":\n",
        "          myList.sort()\n",
        "        if func[0].lower()==\"pop\":\n",
        "          myList.pop()        \n",
        "        if func[0].lower()==\"reverse\":\n",
        "          myList.reverse()       \n",
        "\n"
      ],
      "metadata": {
        "id": "nCE1Ctzu_-_G"
      },
      "execution_count": null,
      "outputs": []
    },
    {
      "cell_type": "code",
      "source": [
        "\"\"\"\n",
        "Given an integer, n, and n space-separated integers as input, create a tuple, t, of those n integers. Then compute and print the result of hash(t).\n",
        "\n",
        "Note: hash() is one of the functions in the __builtins__ module, so it need not be imported.\n",
        "\"\"\"\n",
        "if __name__ == '__main__':\n",
        "    n = int(input())\n",
        "    integer_list = map(int, input().split())\n",
        "    t=tuple(integer_list)\n",
        "    print(hash(t))"
      ],
      "metadata": {
        "id": "M9qlB3S4sW8n",
        "colab": {
          "base_uri": "https://localhost:8080/"
        },
        "outputId": "e1037b5b-b73c-4805-8f49-858583c14cd8"
      },
      "execution_count": null,
      "outputs": [
        {
          "output_type": "stream",
          "name": "stdout",
          "text": [
            "2\n",
            "1 2\n",
            "-3550055125485641917\n"
          ]
        }
      ]
    },
    {
      "cell_type": "code",
      "source": [
        "\"\"\"\n",
        "You are given a string and your task is to swap cases. In other words, convert all lowercase letters to uppercase letters and vice versa.\n",
        "\"\"\"\n",
        "def swap_case(s):\n",
        "  o=\"\"\n",
        "  for l in s:\n",
        "    if l.islower():\n",
        "      o=o+l.upper()\n",
        "    elif l.isupper():\n",
        "      o=o+l.lower()\n",
        "    else: \n",
        "      o=o+l\n",
        "  return o\n",
        "\n",
        "if __name__ == '__main__':\n",
        "    s = input()\n",
        "    result = swap_case(s)\n",
        "    print(result)"
      ],
      "metadata": {
        "colab": {
          "base_uri": "https://localhost:8080/"
        },
        "id": "itNDZ8HMa764",
        "outputId": "c17c6c36-a4b9-4f7c-c10c-298551c6c3f0"
      },
      "execution_count": null,
      "outputs": [
        {
          "output_type": "stream",
          "name": "stdout",
          "text": [
            "Meh\n",
            "mEH\n"
          ]
        }
      ]
    },
    {
      "cell_type": "code",
      "source": [
        "def split_and_join(line):\n",
        "    return \"-\".join(line.split())\n",
        "    # write your code here\n",
        "\n",
        "if __name__ == '__main__':\n",
        "    line = input()\n",
        "    result = split_and_join(line)\n",
        "    print(result)"
      ],
      "metadata": {
        "colab": {
          "base_uri": "https://localhost:8080/"
        },
        "id": "yHNVQkZS0ByI",
        "outputId": "938d5363-d8c9-4845-8f85-7b422786cb3d"
      },
      "execution_count": null,
      "outputs": [
        {
          "output_type": "stream",
          "name": "stdout",
          "text": [
            "a b c\n",
            "a-b-c\n"
          ]
        }
      ]
    },
    {
      "cell_type": "code",
      "source": [
        "#\n",
        "# Complete the 'print_full_name' function below.\n",
        "#\n",
        "# The function is expected to return a STRING.\n",
        "# The function accepts following parameters:\n",
        "#  1. STRING first\n",
        "#  2. STRING last\n",
        "#\n",
        "\n",
        "def print_full_name(first, last):\n",
        "    # Write your code here\n",
        "    print(\"Hello \"+first+\" \"+last+\"! You just delved into python.\")\n",
        "\n",
        "if __name__ == '__main__':\n",
        "    first_name = input()\n",
        "    last_name = input()\n",
        "    print_full_name(first_name, last_name)"
      ],
      "metadata": {
        "colab": {
          "base_uri": "https://localhost:8080/"
        },
        "id": "3-T-yaLK1cdS",
        "outputId": "1c289660-4a55-4a2d-9c34-020313f0df52"
      },
      "execution_count": null,
      "outputs": [
        {
          "output_type": "stream",
          "name": "stdout",
          "text": [
            "a\n",
            "b\n",
            "Hello a b! You just delved into python.\n"
          ]
        }
      ]
    },
    {
      "cell_type": "code",
      "source": [
        "\"\"\"\n",
        "Task\n",
        "Read a given string, change the character at a given index and then print the modified string.\n",
        "Function Description\n",
        "\n",
        "Complete the mutate_string function in the editor below.\n",
        "\n",
        "mutate_string has the following parameters:\n",
        "\n",
        "string string: the string to change\n",
        "int position: the index to insert the character at\n",
        "string character: the character to insert\n",
        "\"\"\"\n",
        "\n",
        "\n",
        "def mutate_string(string, position, character):\n",
        "    newS=string[:position]+character+string[position+1:]\n",
        "    return newS\n",
        "\n",
        "if __name__ == '__main__':\n",
        "    s = input()\n",
        "    i, c = input().split()\n",
        "    s_new = mutate_string(s, int(i), c)\n",
        "    print(s_new)"
      ],
      "metadata": {
        "colab": {
          "base_uri": "https://localhost:8080/"
        },
        "id": "cObrsdewJs7i",
        "outputId": "7efa80f8-9f90-4265-cd12-49972fdc2152"
      },
      "execution_count": null,
      "outputs": [
        {
          "output_type": "stream",
          "name": "stdout",
          "text": [
            "abracadabra\n",
            "5 k\n",
            "abrackdabra\n"
          ]
        }
      ]
    },
    {
      "cell_type": "code",
      "source": [
        "\"\"\"\n",
        "In this challenge, the user enters a string and a substring. You have to print the number of times that the substring occurs in the given string. String traversal will take place from left to right, not from right to left.\n",
        "\n",
        "NOTE: String letters are case-sensitive.\n",
        "\"\"\"\n",
        "def count_substring(string, sub_string):\n",
        "    count=0\n",
        "    for i in range(len(string)):\n",
        "      if string[i:i+len(sub_string)]==sub_string:\n",
        "        count+=1\n",
        "    return count\n",
        "\n",
        "if __name__ == '__main__':\n",
        "    string = input().strip()\n",
        "    sub_string = input().strip()\n",
        "    \n",
        "    count = count_substring(string, sub_string)\n",
        "    print(count)"
      ],
      "metadata": {
        "colab": {
          "base_uri": "https://localhost:8080/"
        },
        "id": "vDV6UuTe_E4c",
        "outputId": "20289c36-dcfd-461f-b267-52adb6a00753"
      },
      "execution_count": null,
      "outputs": [
        {
          "output_type": "stream",
          "name": "stdout",
          "text": [
            "ABCDCDC\n",
            "CDC\n",
            "2\n"
          ]
        }
      ]
    },
    {
      "cell_type": "code",
      "source": [],
      "metadata": {
        "id": "Rti-7H9kdnuv"
      },
      "execution_count": null,
      "outputs": []
    }
  ]
}