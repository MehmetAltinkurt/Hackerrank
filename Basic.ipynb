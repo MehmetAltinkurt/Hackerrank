{
  "nbformat": 4,
  "nbformat_minor": 0,
  "metadata": {
    "colab": {
      "provenance": [],
      "authorship_tag": "ABX9TyNb4ITVEKU9qC/aI+6iMcz+",
      "include_colab_link": true
    },
    "kernelspec": {
      "name": "python3",
      "display_name": "Python 3"
    },
    "language_info": {
      "name": "python"
    }
  },
  "cells": [
    {
      "cell_type": "markdown",
      "metadata": {
        "id": "view-in-github",
        "colab_type": "text"
      },
      "source": [
        "<a href=\"https://colab.research.google.com/github/MehmetAltinkurt/Hackerrank/blob/main/Basic.ipynb\" target=\"_parent\"><img src=\"https://colab.research.google.com/assets/colab-badge.svg\" alt=\"Open In Colab\"/></a>"
      ]
    },
    {
      "cell_type": "code",
      "execution_count": 1,
      "metadata": {
        "colab": {
          "base_uri": "https://localhost:8080/"
        },
        "id": "OZbtNnQCxAkH",
        "outputId": "5ea9a1bb-6a39-48e3-8584-90b0be1b763a"
      },
      "outputs": [
        {
          "output_type": "stream",
          "name": "stdout",
          "text": [
            "1\n",
            "2\n",
            "2\n",
            "4\n",
            "[[0, 0, 0], [0, 0, 1], [0, 0, 2], [0, 1, 0], [0, 1, 1], [0, 1, 2], [0, 2, 0], [0, 2, 1], [1, 0, 0], [1, 0, 1], [1, 0, 2], [1, 1, 0], [1, 1, 1], [1, 2, 0], [1, 2, 2]]\n"
          ]
        }
      ],
      "source": [
        "\"\"\"\n",
        "Let's learn about list comprehensions! You are given three integers x, y and z representing the dimensions of a cuboid along with an integer n. \n",
        "Print a list of all possible coordinates given by (i,j,k) on a 3D grid where the sum of i+j+k is not equal to n.\n",
        "\n",
        "\"\"\"\n",
        "if __name__ == '__main__':\n",
        "    x = int(input())\n",
        "    y = int(input())\n",
        "    z = int(input())\n",
        "    n = int(input())\n",
        "\n",
        "    mylist=[]\n",
        "    for i in range(x+1):\n",
        "      for j in range(y+1):\n",
        "        for k in range(z+1):\n",
        "          if i+j+k!=n:\n",
        "            mylist.append([i,j,k])\n",
        "    print(mylist)\n",
        "\n",
        "\n",
        "\n"
      ]
    },
    {
      "cell_type": "code",
      "source": [
        "\"\"\"\n",
        "Given the participants' score sheet for your University Sports Day, you are required to find the runner-up score.\n",
        " You are given  scores. Store them in a list and find the score of the runner-up.\n",
        " \"\"\"\n",
        "\n",
        "\n",
        "if __name__ == '__main__':\n",
        "    n = int(input())\n",
        "    arr = map(int, input().split())\n",
        "\n",
        "    arr=list(arr)\n",
        "    maxScore=max(arr)\n",
        "    runnerup=arr[0]\n",
        "    for num in arr:\n",
        "      if num>runnerup and num!=maxScore:\n",
        "        runnerup=num\n",
        "    print(runnerup)\n"
      ],
      "metadata": {
        "colab": {
          "base_uri": "https://localhost:8080/"
        },
        "id": "jfpsHyyuBfLS",
        "outputId": "57ec6fc5-7462-4925-fd73-d224a9ddb031"
      },
      "execution_count": 5,
      "outputs": [
        {
          "output_type": "stream",
          "name": "stdout",
          "text": [
            "5\n",
            "2 3 6 6 5\n",
            "5\n"
          ]
        }
      ]
    },
    {
      "cell_type": "code",
      "source": [
        "\"\"\"Given the names and grades for each student in a class of N students, store them in a nested list and print the name(s) of any student(s) having the second lowest grade.\n",
        "\n",
        "Note: If there are multiple students with the second lowest grade, order their names alphabetically and print each name on a new line.\"\"\"\n",
        "if __name__ == '__main__':\n",
        "    myList=[]\n",
        "    for _ in range(int(input())):\n",
        "        name = input()\n",
        "        score = float(input())\n",
        "        myList.append([name,score])\n",
        "    myList.sort(key=lambda x:x[1])\n",
        "    secondLowest=0\n",
        "    for l in myList:\n",
        "      if l[1]>myList[0][1]:\n",
        "        secondLowest=l[1]\n",
        "        break\n",
        "    nameList=[]\n",
        "    for l in myList:\n",
        "        if l[1]==secondLowest:\n",
        "            nameList.append(l[0])\n",
        "    nameList.sort()\n",
        "    for i in nameList:\n",
        "      print(i)"
      ],
      "metadata": {
        "colab": {
          "base_uri": "https://localhost:8080/"
        },
        "id": "3Tge74O_hLo4",
        "outputId": "0cc10a7d-597d-4364-98f2-71a2c5ade8bf"
      },
      "execution_count": 65,
      "outputs": [
        {
          "output_type": "stream",
          "name": "stdout",
          "text": [
            "3\n",
            "a\n",
            "1\n",
            "b\n",
            "1\n",
            "c\n",
            "2\n",
            "c\n"
          ]
        }
      ]
    },
    {
      "cell_type": "code",
      "source": [
        "\"\"\"\n",
        "The provided code stub will read in a dictionary containing key/value pairs of name:[marks] for a list of students. Print the average of the marks array for the student name provided, showing 2 places after the decimal.\n",
        "\"\"\"\n",
        "if __name__ == '__main__':\n",
        "    n = int(input())\n",
        "    student_marks = {}\n",
        "    for _ in range(n):\n",
        "        name, *line = input().split()\n",
        "        scores = list(map(float, line))\n",
        "        student_marks[name] = scores\n",
        "    query_name = input()\n",
        "\n",
        "    print(\"%.2f\" % (sum(student_marks[query_name])/len(student_marks[query_name])))"
      ],
      "metadata": {
        "colab": {
          "base_uri": "https://localhost:8080/"
        },
        "id": "XR1PoNzgvXK_",
        "outputId": "8ad55b11-736a-4329-a488-6888b51b046d"
      },
      "execution_count": 5,
      "outputs": [
        {
          "output_type": "stream",
          "name": "stdout",
          "text": [
            "1\n",
            "a 3 4 5\n",
            "a\n",
            "4.00\n"
          ]
        }
      ]
    },
    {
      "cell_type": "code",
      "source": [
        "\"\"\"\n",
        "You are given n words. Some words may repeat. For each word, output its number of occurrences. The output order should correspond with the input order of appearance of the word. See the sample input/output for clarification.\n",
        "Note: Each input line ends with a \"\\n\" characte\n",
        "\n",
        "if __name__ == '__main__':\n",
        "    n = int(input())\n",
        "    wordList=[]\n",
        "    for _ in range(n):\n",
        "        word = input()\n",
        "        wordList.append(word)\n",
        "    print(wordList)\n",
        "\n",
        "    for i in range(len(wordList)):\n",
        "      count=0\n",
        "      for j in range(i,len(wordList),1):\n",
        "        print(i,j)\n",
        "        if wordList[i]==wordList[j]:\n",
        "          count+=1\n",
        "          wordList.pop(j)\n",
        "      print(\"count:\",count)\n",
        "\"\"\"\n",
        "\n"
      ],
      "metadata": {
        "id": "oPYmXCt56KAJ"
      },
      "execution_count": null,
      "outputs": []
    },
    {
      "cell_type": "code",
      "source": [
        "if __name__ == '__main__':\n",
        "    N = int(input())\n",
        "    myList=[]\n",
        "    for _ in range(N):\n",
        "        func = input().split()\n",
        "        if func[0].lower()==\"insert\":\n",
        "          myList.insert(int(func[1]),int(func[2]))\n",
        "        if func[0].lower()==\"print\":\n",
        "          print(myList)      \n",
        "        if func[0].lower()==\"remove\":\n",
        "          myList.remove(int(func[1]))\n",
        "        if func[0].lower()==\"append\":\n",
        "          myList.append(int(func[1]))        \n",
        "        if func[0].lower()==\"sort\":\n",
        "          myList.sort()\n",
        "        if func[0].lower()==\"pop\":\n",
        "          myList.pop()        \n",
        "        if func[0].lower()==\"reverse\":\n",
        "          myList.reverse()       \n",
        "\n"
      ],
      "metadata": {
        "id": "nCE1Ctzu_-_G"
      },
      "execution_count": null,
      "outputs": []
    },
    {
      "cell_type": "code",
      "source": [],
      "metadata": {
        "id": "M9qlB3S4sW8n"
      },
      "execution_count": null,
      "outputs": []
    }
  ]
}